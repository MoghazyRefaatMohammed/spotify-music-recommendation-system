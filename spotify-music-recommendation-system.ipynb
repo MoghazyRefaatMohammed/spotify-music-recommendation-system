{
 "cells": [
  {
   "cell_type": "code",
   "execution_count": 4,
   "id": "d0ff86bb",
   "metadata": {
    "_cell_guid": "b1076dfc-b9ad-4769-8c92-a6c4dae69d19",
    "_uuid": "8f2839f25d086af736a60e9eeb907d3b93b6e0e5",
    "execution": {
     "iopub.execute_input": "2022-12-28T21:42:37.255660Z",
     "iopub.status.busy": "2022-12-28T21:42:37.254699Z",
     "iopub.status.idle": "2022-12-28T21:42:45.800379Z",
     "shell.execute_reply": "2022-12-28T21:42:45.798721Z"
    },
    "papermill": {
     "duration": 8.558319,
     "end_time": "2022-12-28T21:42:45.803739",
     "exception": false,
     "start_time": "2022-12-28T21:42:37.245420",
     "status": "completed"
    },
    "tags": []
   },
   "outputs": [],
   "source": [
    "import os\n",
    "import numpy as np\n",
    "import pandas as pd\n",
    "\n",
    "import seaborn as sns\n",
    "import plotly.express as px \n",
    "import matplotlib.pyplot as plt\n",
    "%matplotlib inline\n",
    "import tensorflow as tf\n",
    "\n",
    "from sklearn.cluster import KMeans\n",
    "from sklearn.preprocessing import StandardScaler\n",
    "from sklearn.pipeline import Pipeline\n",
    "from sklearn.manifold import TSNE\n",
    "from sklearn.decomposition import PCA\n",
    "from sklearn.metrics import euclidean_distances\n",
    "from scipy.spatial.distance import cdist\n",
    "from matplotlib import pyplot as plt\n",
    "from matplotlib.pyplot import plot\n",
    "from sklearn.model_selection import train_test_split\n",
    "\n",
    "import warnings\n",
    "warnings.filterwarnings(\"ignore\")"
   ]
  },
  {
   "cell_type": "code",
   "execution_count": 5,
   "id": "9a211795",
   "metadata": {
    "execution": {
     "iopub.execute_input": "2022-12-28T21:42:45.818771Z",
     "iopub.status.busy": "2022-12-28T21:42:45.817023Z",
     "iopub.status.idle": "2022-12-28T21:42:47.404279Z",
     "shell.execute_reply": "2022-12-28T21:42:47.402866Z"
    },
    "papermill": {
     "duration": 1.597999,
     "end_time": "2022-12-28T21:42:47.407747",
     "exception": false,
     "start_time": "2022-12-28T21:42:45.809748",
     "status": "completed"
    },
    "tags": []
   },
   "outputs": [],
   "source": [
    "import os\n",
    "import numpy as np\n",
    "import pandas as pd\n",
    "\n",
    "import seaborn as sns\n",
    "import plotly.express as px \n",
    "import matplotlib.pyplot as plt\n",
    "%matplotlib inline\n",
    "import tensorflow as tf\n",
    "\n",
    "from sklearn.cluster import KMeans\n",
    "from sklearn.preprocessing import StandardScaler\n",
    "from sklearn.pipeline import Pipeline\n",
    "from sklearn.manifold import TSNE\n",
    "from sklearn.decomposition import PCA\n",
    "from sklearn.metrics import euclidean_distances\n",
    "from scipy.spatial.distance import cdist\n",
    "from matplotlib import pyplot as plt\n",
    "from matplotlib.pyplot import plot\n",
    "from sklearn.model_selection import train_test_split\n",
    "\n",
    "import warnings\n",
    "warnings.filterwarnings(\"ignore\")"
   ]
  },
  {
   "cell_type": "code",
   "execution_count": 6,
   "id": "3a303b19",
   "metadata": {
    "execution": {
     "iopub.execute_input": "2022-12-28T21:42:47.421515Z",
     "iopub.status.busy": "2022-12-28T21:42:47.420850Z",
     "iopub.status.idle": "2022-12-28T21:42:47.512842Z",
     "shell.execute_reply": "2022-12-28T21:42:47.511597Z"
    },
    "papermill": {
     "duration": 0.103783,
     "end_time": "2022-12-28T21:42:47.517177",
     "exception": false,
     "start_time": "2022-12-28T21:42:47.413394",
     "status": "completed"
    },
    "tags": []
   },
   "outputs": [
    {
     "name": "stdout",
     "output_type": "stream",
     "text": [
      "<class 'pandas.core.frame.DataFrame'>\n",
      "RangeIndex: 170653 entries, 0 to 170652\n",
      "Data columns (total 19 columns):\n",
      " #   Column            Non-Null Count   Dtype  \n",
      "---  ------            --------------   -----  \n",
      " 0   valence           170653 non-null  float64\n",
      " 1   year              170653 non-null  int64  \n",
      " 2   acousticness      170653 non-null  float64\n",
      " 3   artists           170653 non-null  object \n",
      " 4   danceability      170653 non-null  float64\n",
      " 5   duration_ms       170653 non-null  int64  \n",
      " 6   energy            170653 non-null  float64\n",
      " 7   explicit          170653 non-null  int64  \n",
      " 8   id                170653 non-null  object \n",
      " 9   instrumentalness  170653 non-null  float64\n",
      " 10  key               170653 non-null  int64  \n",
      " 11  liveness          170653 non-null  float64\n",
      " 12  loudness          170653 non-null  float64\n",
      " 13  mode              170653 non-null  int64  \n",
      " 14  name              170653 non-null  object \n",
      " 15  popularity        170653 non-null  int64  \n",
      " 16  release_date      170653 non-null  object \n",
      " 17  speechiness       170653 non-null  float64\n",
      " 18  tempo             170653 non-null  float64\n",
      "dtypes: float64(9), int64(6), object(4)\n",
      "memory usage: 24.7+ MB\n",
      "None\n",
      "<class 'pandas.core.frame.DataFrame'>\n",
      "RangeIndex: 28680 entries, 0 to 28679\n",
      "Data columns (total 16 columns):\n",
      " #   Column            Non-Null Count  Dtype  \n",
      "---  ------            --------------  -----  \n",
      " 0   genres            28680 non-null  object \n",
      " 1   artists           28680 non-null  object \n",
      " 2   acousticness      28680 non-null  float64\n",
      " 3   danceability      28680 non-null  float64\n",
      " 4   duration_ms       28680 non-null  float64\n",
      " 5   energy            28680 non-null  float64\n",
      " 6   instrumentalness  28680 non-null  float64\n",
      " 7   liveness          28680 non-null  float64\n",
      " 8   loudness          28680 non-null  float64\n",
      " 9   speechiness       28680 non-null  float64\n",
      " 10  tempo             28680 non-null  float64\n",
      " 11  valence           28680 non-null  float64\n",
      " 12  popularity        28680 non-null  float64\n",
      " 13  key               28680 non-null  int64  \n",
      " 14  mode              28680 non-null  int64  \n",
      " 15  count             28680 non-null  int64  \n",
      "dtypes: float64(11), int64(3), object(2)\n",
      "memory usage: 3.5+ MB\n",
      "None\n",
      "<class 'pandas.core.frame.DataFrame'>\n",
      "RangeIndex: 100 entries, 0 to 99\n",
      "Data columns (total 14 columns):\n",
      " #   Column            Non-Null Count  Dtype  \n",
      "---  ------            --------------  -----  \n",
      " 0   mode              100 non-null    int64  \n",
      " 1   year              100 non-null    int64  \n",
      " 2   acousticness      100 non-null    float64\n",
      " 3   danceability      100 non-null    float64\n",
      " 4   duration_ms       100 non-null    float64\n",
      " 5   energy            100 non-null    float64\n",
      " 6   instrumentalness  100 non-null    float64\n",
      " 7   liveness          100 non-null    float64\n",
      " 8   loudness          100 non-null    float64\n",
      " 9   speechiness       100 non-null    float64\n",
      " 10  tempo             100 non-null    float64\n",
      " 11  valence           100 non-null    float64\n",
      " 12  popularity        100 non-null    float64\n",
      " 13  key               100 non-null    int64  \n",
      "dtypes: float64(11), int64(3)\n",
      "memory usage: 11.1 KB\n",
      "None\n",
      "<class 'pandas.core.frame.DataFrame'>\n",
      "RangeIndex: 28680 entries, 0 to 28679\n",
      "Data columns (total 15 columns):\n",
      " #   Column            Non-Null Count  Dtype  \n",
      "---  ------            --------------  -----  \n",
      " 0   mode              28680 non-null  int64  \n",
      " 1   count             28680 non-null  int64  \n",
      " 2   acousticness      28680 non-null  float64\n",
      " 3   artists           28680 non-null  object \n",
      " 4   danceability      28680 non-null  float64\n",
      " 5   duration_ms       28680 non-null  float64\n",
      " 6   energy            28680 non-null  float64\n",
      " 7   instrumentalness  28680 non-null  float64\n",
      " 8   liveness          28680 non-null  float64\n",
      " 9   loudness          28680 non-null  float64\n",
      " 10  speechiness       28680 non-null  float64\n",
      " 11  tempo             28680 non-null  float64\n",
      " 12  valence           28680 non-null  float64\n",
      " 13  popularity        28680 non-null  float64\n",
      " 14  key               28680 non-null  int64  \n",
      "dtypes: float64(11), int64(3), object(1)\n",
      "memory usage: 3.3+ MB\n",
      "None\n"
     ]
    }
   ],
   "source": [
    "print(data.info())\n",
    "print(genre_data.info())\n",
    "print(year_data.info())\n",
    "print(artist_data.info())\n"
   ]
  },
  {
   "cell_type": "markdown",
   "id": "bd0254f1",
   "metadata": {
    "papermill": {
     "duration": 0.005255,
     "end_time": "2022-12-28T21:42:47.528246",
     "exception": false,
     "start_time": "2022-12-28T21:42:47.522991",
     "status": "completed"
    },
    "tags": []
   },
   "source": [
    "Heat Map:-\n",
    "It is a graphical representation of data where values are depicted by color. "
   ]
  },
  {
   "cell_type": "code",
   "execution_count": 13,
   "id": "041b5333",
   "metadata": {
    "execution": {
     "iopub.execute_input": "2022-12-28T21:42:47.541213Z",
     "iopub.status.busy": "2022-12-28T21:42:47.540785Z",
     "iopub.status.idle": "2022-12-28T21:42:55.509675Z",
     "shell.execute_reply": "2022-12-28T21:42:55.508457Z"
    },
    "papermill": {
     "duration": 7.987341,
     "end_time": "2022-12-28T21:42:55.521136",
     "exception": false,
     "start_time": "2022-12-28T21:42:47.533795",
     "status": "completed"
    },
    "tags": []
   },
   "outputs": [
    {
     "ename": "TypeError",
     "evalue": "pivot() takes 1 positional argument but 4 were given",
     "output_type": "error",
     "traceback": [
      "\u001b[1;31m---------------------------------------------------------------------------\u001b[0m",
      "\u001b[1;31mTypeError\u001b[0m                                 Traceback (most recent call last)",
      "Cell \u001b[1;32mIn[13], line 1\u001b[0m\n\u001b[1;32m----> 1\u001b[0m \u001b[43myear_data\u001b[49m\u001b[38;5;241;43m.\u001b[39;49m\u001b[43mpivot\u001b[49m\u001b[43m(\u001b[49m\u001b[38;5;124;43m'\u001b[39;49m\u001b[38;5;124;43myear\u001b[39;49m\u001b[38;5;124;43m'\u001b[39;49m\u001b[43m,\u001b[49m\u001b[38;5;124;43m'\u001b[39;49m\u001b[38;5;124;43mduration_ms\u001b[39;49m\u001b[38;5;124;43m'\u001b[39;49m\u001b[43m,\u001b[49m\u001b[38;5;124;43m'\u001b[39;49m\u001b[38;5;124;43menergy\u001b[39;49m\u001b[38;5;124;43m'\u001b[39;49m\u001b[43m)\u001b[49m\u001b[38;5;241m.\u001b[39mhead()\n\u001b[0;32m      2\u001b[0m plt\u001b[38;5;241m.\u001b[39mfigure(figsize\u001b[38;5;241m=\u001b[39m(\u001b[38;5;241m20\u001b[39m,\u001b[38;5;241m100\u001b[39m))\n\u001b[0;32m      3\u001b[0m pivot_table \u001b[38;5;241m=\u001b[39m year_data\u001b[38;5;241m.\u001b[39mpivot(\u001b[38;5;124m'\u001b[39m\u001b[38;5;124myear\u001b[39m\u001b[38;5;124m'\u001b[39m,\u001b[38;5;124m'\u001b[39m\u001b[38;5;124mduration_ms\u001b[39m\u001b[38;5;124m'\u001b[39m,\u001b[38;5;124m'\u001b[39m\u001b[38;5;124menergy\u001b[39m\u001b[38;5;124m'\u001b[39m)\n",
      "\u001b[1;31mTypeError\u001b[0m: pivot() takes 1 positional argument but 4 were given"
     ]
    }
   ],
   "source": [
    "year_data.pivot('year','duration_ms','energy').head()\n",
    "plt.figure(figsize=(20,100))\n",
    "pivot_table = year_data.pivot('year','duration_ms','energy')\n",
    "plt.xlabel('year', size = 14)\n",
    "plt.ylabel('duration_ms', size = 14)\n",
    "plt.title('Energy over time', size = 14)\n",
    "sns.heatmap(year_data, annot=True, linewidths=.4,linecolor='black', square=True, cmap='Greens_r',cbar=True);"
   ]
  },
  {
   "cell_type": "markdown",
   "id": "c03a63d7",
   "metadata": {
    "papermill": {
     "duration": 0.014454,
     "end_time": "2022-12-28T21:42:55.550590",
     "exception": false,
     "start_time": "2022-12-28T21:42:55.536136",
     "status": "completed"
    },
    "tags": []
   },
   "source": [
    "Correlation matrix:-\n",
    "A table which displays the correlation coefficients for different variables."
   ]
  },
  {
   "cell_type": "code",
   "execution_count": null,
   "id": "16dfd18f",
   "metadata": {
    "execution": {
     "iopub.execute_input": "2022-12-28T21:42:55.583114Z",
     "iopub.status.busy": "2022-12-28T21:42:55.581912Z",
     "iopub.status.idle": "2022-12-28T21:42:56.537731Z",
     "shell.execute_reply": "2022-12-28T21:42:56.535958Z"
    },
    "papermill": {
     "duration": 0.975482,
     "end_time": "2022-12-28T21:42:56.540606",
     "exception": false,
     "start_time": "2022-12-28T21:42:55.565124",
     "status": "completed"
    },
    "tags": []
   },
   "outputs": [
    {
     "data": {
      "text/html": [
       "<div>\n",
       "<style scoped>\n",
       "    .dataframe tbody tr th:only-of-type {\n",
       "        vertical-align: middle;\n",
       "    }\n",
       "\n",
       "    .dataframe tbody tr th {\n",
       "        vertical-align: top;\n",
       "    }\n",
       "\n",
       "    .dataframe thead th {\n",
       "        text-align: right;\n",
       "    }\n",
       "</style>\n",
       "<table border=\"1\" class=\"dataframe\">\n",
       "  <thead>\n",
       "    <tr style=\"text-align: right;\">\n",
       "      <th></th>\n",
       "      <th>Unnamed: 0</th>\n",
       "      <th>popularity</th>\n",
       "      <th>duration_ms</th>\n",
       "      <th>explicit</th>\n",
       "      <th>danceability</th>\n",
       "      <th>energy</th>\n",
       "      <th>key</th>\n",
       "      <th>loudness</th>\n",
       "      <th>mode</th>\n",
       "      <th>speechiness</th>\n",
       "      <th>acousticness</th>\n",
       "      <th>instrumentalness</th>\n",
       "      <th>liveness</th>\n",
       "      <th>valence</th>\n",
       "      <th>tempo</th>\n",
       "      <th>time_signature</th>\n",
       "    </tr>\n",
       "  </thead>\n",
       "  <tbody>\n",
       "    <tr>\n",
       "      <th>Unnamed: 0</th>\n",
       "      <td>1.000000</td>\n",
       "      <td>0.032142</td>\n",
       "      <td>-0.032743</td>\n",
       "      <td>-0.054736</td>\n",
       "      <td>0.003444</td>\n",
       "      <td>-0.055994</td>\n",
       "      <td>-0.005520</td>\n",
       "      <td>-0.027307</td>\n",
       "      <td>0.005107</td>\n",
       "      <td>-0.084952</td>\n",
       "      <td>0.076840</td>\n",
       "      <td>-0.070286</td>\n",
       "      <td>0.033639</td>\n",
       "      <td>0.053111</td>\n",
       "      <td>-0.025824</td>\n",
       "      <td>-0.021115</td>\n",
       "    </tr>\n",
       "    <tr>\n",
       "      <th>popularity</th>\n",
       "      <td>0.032142</td>\n",
       "      <td>1.000000</td>\n",
       "      <td>-0.007101</td>\n",
       "      <td>0.044082</td>\n",
       "      <td>0.035448</td>\n",
       "      <td>0.001056</td>\n",
       "      <td>-0.003853</td>\n",
       "      <td>0.050423</td>\n",
       "      <td>-0.013931</td>\n",
       "      <td>-0.044927</td>\n",
       "      <td>-0.025472</td>\n",
       "      <td>-0.095139</td>\n",
       "      <td>-0.005387</td>\n",
       "      <td>-0.040534</td>\n",
       "      <td>0.013205</td>\n",
       "      <td>0.031073</td>\n",
       "    </tr>\n",
       "    <tr>\n",
       "      <th>duration_ms</th>\n",
       "      <td>-0.032743</td>\n",
       "      <td>-0.007101</td>\n",
       "      <td>1.000000</td>\n",
       "      <td>-0.065263</td>\n",
       "      <td>-0.073426</td>\n",
       "      <td>0.058523</td>\n",
       "      <td>0.008114</td>\n",
       "      <td>-0.003470</td>\n",
       "      <td>-0.035556</td>\n",
       "      <td>-0.062600</td>\n",
       "      <td>-0.103788</td>\n",
       "      <td>0.124371</td>\n",
       "      <td>0.010321</td>\n",
       "      <td>-0.154479</td>\n",
       "      <td>0.024346</td>\n",
       "      <td>0.018225</td>\n",
       "    </tr>\n",
       "    <tr>\n",
       "      <th>explicit</th>\n",
       "      <td>-0.054736</td>\n",
       "      <td>0.044082</td>\n",
       "      <td>-0.065263</td>\n",
       "      <td>1.000000</td>\n",
       "      <td>0.122507</td>\n",
       "      <td>0.096955</td>\n",
       "      <td>0.004484</td>\n",
       "      <td>0.108588</td>\n",
       "      <td>-0.037212</td>\n",
       "      <td>0.307952</td>\n",
       "      <td>-0.094403</td>\n",
       "      <td>-0.103404</td>\n",
       "      <td>0.032549</td>\n",
       "      <td>-0.003381</td>\n",
       "      <td>-0.002816</td>\n",
       "      <td>0.038386</td>\n",
       "    </tr>\n",
       "    <tr>\n",
       "      <th>danceability</th>\n",
       "      <td>0.003444</td>\n",
       "      <td>0.035448</td>\n",
       "      <td>-0.073426</td>\n",
       "      <td>0.122507</td>\n",
       "      <td>1.000000</td>\n",
       "      <td>0.134325</td>\n",
       "      <td>0.036469</td>\n",
       "      <td>0.259077</td>\n",
       "      <td>-0.069219</td>\n",
       "      <td>0.108626</td>\n",
       "      <td>-0.171533</td>\n",
       "      <td>-0.185606</td>\n",
       "      <td>-0.131617</td>\n",
       "      <td>0.477341</td>\n",
       "      <td>-0.050450</td>\n",
       "      <td>0.207218</td>\n",
       "    </tr>\n",
       "    <tr>\n",
       "      <th>energy</th>\n",
       "      <td>-0.055994</td>\n",
       "      <td>0.001056</td>\n",
       "      <td>0.058523</td>\n",
       "      <td>0.096955</td>\n",
       "      <td>0.134325</td>\n",
       "      <td>1.000000</td>\n",
       "      <td>0.048006</td>\n",
       "      <td>0.761690</td>\n",
       "      <td>-0.078362</td>\n",
       "      <td>0.142509</td>\n",
       "      <td>-0.733906</td>\n",
       "      <td>-0.181879</td>\n",
       "      <td>0.184796</td>\n",
       "      <td>0.258934</td>\n",
       "      <td>0.247851</td>\n",
       "      <td>0.187126</td>\n",
       "    </tr>\n",
       "    <tr>\n",
       "      <th>key</th>\n",
       "      <td>-0.005520</td>\n",
       "      <td>-0.003853</td>\n",
       "      <td>0.008114</td>\n",
       "      <td>0.004484</td>\n",
       "      <td>0.036469</td>\n",
       "      <td>0.048006</td>\n",
       "      <td>1.000000</td>\n",
       "      <td>0.038590</td>\n",
       "      <td>-0.135916</td>\n",
       "      <td>0.020418</td>\n",
       "      <td>-0.040937</td>\n",
       "      <td>-0.006823</td>\n",
       "      <td>-0.001600</td>\n",
       "      <td>0.034103</td>\n",
       "      <td>0.010917</td>\n",
       "      <td>0.015065</td>\n",
       "    </tr>\n",
       "    <tr>\n",
       "      <th>loudness</th>\n",
       "      <td>-0.027307</td>\n",
       "      <td>0.050423</td>\n",
       "      <td>-0.003470</td>\n",
       "      <td>0.108588</td>\n",
       "      <td>0.259077</td>\n",
       "      <td>0.761690</td>\n",
       "      <td>0.038590</td>\n",
       "      <td>1.000000</td>\n",
       "      <td>-0.041764</td>\n",
       "      <td>0.060826</td>\n",
       "      <td>-0.589803</td>\n",
       "      <td>-0.433477</td>\n",
       "      <td>0.076899</td>\n",
       "      <td>0.279848</td>\n",
       "      <td>0.212446</td>\n",
       "      <td>0.191992</td>\n",
       "    </tr>\n",
       "    <tr>\n",
       "      <th>mode</th>\n",
       "      <td>0.005107</td>\n",
       "      <td>-0.013931</td>\n",
       "      <td>-0.035556</td>\n",
       "      <td>-0.037212</td>\n",
       "      <td>-0.069219</td>\n",
       "      <td>-0.078362</td>\n",
       "      <td>-0.135916</td>\n",
       "      <td>-0.041764</td>\n",
       "      <td>1.000000</td>\n",
       "      <td>-0.046532</td>\n",
       "      <td>0.095553</td>\n",
       "      <td>-0.049955</td>\n",
       "      <td>0.014012</td>\n",
       "      <td>0.021953</td>\n",
       "      <td>0.000566</td>\n",
       "      <td>-0.024092</td>\n",
       "    </tr>\n",
       "    <tr>\n",
       "      <th>speechiness</th>\n",
       "      <td>-0.084952</td>\n",
       "      <td>-0.044927</td>\n",
       "      <td>-0.062600</td>\n",
       "      <td>0.307952</td>\n",
       "      <td>0.108626</td>\n",
       "      <td>0.142509</td>\n",
       "      <td>0.020418</td>\n",
       "      <td>0.060826</td>\n",
       "      <td>-0.046532</td>\n",
       "      <td>1.000000</td>\n",
       "      <td>-0.002186</td>\n",
       "      <td>-0.089616</td>\n",
       "      <td>0.205219</td>\n",
       "      <td>0.036635</td>\n",
       "      <td>0.017273</td>\n",
       "      <td>-0.000011</td>\n",
       "    </tr>\n",
       "    <tr>\n",
       "      <th>acousticness</th>\n",
       "      <td>0.076840</td>\n",
       "      <td>-0.025472</td>\n",
       "      <td>-0.103788</td>\n",
       "      <td>-0.094403</td>\n",
       "      <td>-0.171533</td>\n",
       "      <td>-0.733906</td>\n",
       "      <td>-0.040937</td>\n",
       "      <td>-0.589803</td>\n",
       "      <td>0.095553</td>\n",
       "      <td>-0.002186</td>\n",
       "      <td>1.000000</td>\n",
       "      <td>0.104027</td>\n",
       "      <td>-0.020700</td>\n",
       "      <td>-0.107070</td>\n",
       "      <td>-0.208224</td>\n",
       "      <td>-0.176138</td>\n",
       "    </tr>\n",
       "    <tr>\n",
       "      <th>instrumentalness</th>\n",
       "      <td>-0.070286</td>\n",
       "      <td>-0.095139</td>\n",
       "      <td>0.124371</td>\n",
       "      <td>-0.103404</td>\n",
       "      <td>-0.185606</td>\n",
       "      <td>-0.181879</td>\n",
       "      <td>-0.006823</td>\n",
       "      <td>-0.433477</td>\n",
       "      <td>-0.049955</td>\n",
       "      <td>-0.089616</td>\n",
       "      <td>0.104027</td>\n",
       "      <td>1.000000</td>\n",
       "      <td>-0.079893</td>\n",
       "      <td>-0.324312</td>\n",
       "      <td>-0.050330</td>\n",
       "      <td>-0.082580</td>\n",
       "    </tr>\n",
       "    <tr>\n",
       "      <th>liveness</th>\n",
       "      <td>0.033639</td>\n",
       "      <td>-0.005387</td>\n",
       "      <td>0.010321</td>\n",
       "      <td>0.032549</td>\n",
       "      <td>-0.131617</td>\n",
       "      <td>0.184796</td>\n",
       "      <td>-0.001600</td>\n",
       "      <td>0.076899</td>\n",
       "      <td>0.014012</td>\n",
       "      <td>0.205219</td>\n",
       "      <td>-0.020700</td>\n",
       "      <td>-0.079893</td>\n",
       "      <td>1.000000</td>\n",
       "      <td>0.019086</td>\n",
       "      <td>0.000600</td>\n",
       "      <td>-0.023651</td>\n",
       "    </tr>\n",
       "    <tr>\n",
       "      <th>valence</th>\n",
       "      <td>0.053111</td>\n",
       "      <td>-0.040534</td>\n",
       "      <td>-0.154479</td>\n",
       "      <td>-0.003381</td>\n",
       "      <td>0.477341</td>\n",
       "      <td>0.258934</td>\n",
       "      <td>0.034103</td>\n",
       "      <td>0.279848</td>\n",
       "      <td>0.021953</td>\n",
       "      <td>0.036635</td>\n",
       "      <td>-0.107070</td>\n",
       "      <td>-0.324312</td>\n",
       "      <td>0.019086</td>\n",
       "      <td>1.000000</td>\n",
       "      <td>0.078273</td>\n",
       "      <td>0.133686</td>\n",
       "    </tr>\n",
       "    <tr>\n",
       "      <th>tempo</th>\n",
       "      <td>-0.025824</td>\n",
       "      <td>0.013205</td>\n",
       "      <td>0.024346</td>\n",
       "      <td>-0.002816</td>\n",
       "      <td>-0.050450</td>\n",
       "      <td>0.247851</td>\n",
       "      <td>0.010917</td>\n",
       "      <td>0.212446</td>\n",
       "      <td>0.000566</td>\n",
       "      <td>0.017273</td>\n",
       "      <td>-0.208224</td>\n",
       "      <td>-0.050330</td>\n",
       "      <td>0.000600</td>\n",
       "      <td>0.078273</td>\n",
       "      <td>1.000000</td>\n",
       "      <td>0.066641</td>\n",
       "    </tr>\n",
       "    <tr>\n",
       "      <th>time_signature</th>\n",
       "      <td>-0.021115</td>\n",
       "      <td>0.031073</td>\n",
       "      <td>0.018225</td>\n",
       "      <td>0.038386</td>\n",
       "      <td>0.207218</td>\n",
       "      <td>0.187126</td>\n",
       "      <td>0.015065</td>\n",
       "      <td>0.191992</td>\n",
       "      <td>-0.024092</td>\n",
       "      <td>-0.000011</td>\n",
       "      <td>-0.176138</td>\n",
       "      <td>-0.082580</td>\n",
       "      <td>-0.023651</td>\n",
       "      <td>0.133686</td>\n",
       "      <td>0.066641</td>\n",
       "      <td>1.000000</td>\n",
       "    </tr>\n",
       "  </tbody>\n",
       "</table>\n",
       "</div>"
      ],
      "text/plain": [
       "                  Unnamed: 0  popularity  duration_ms  explicit  danceability  \\\n",
       "Unnamed: 0          1.000000    0.032142    -0.032743 -0.054736      0.003444   \n",
       "popularity          0.032142    1.000000    -0.007101  0.044082      0.035448   \n",
       "duration_ms        -0.032743   -0.007101     1.000000 -0.065263     -0.073426   \n",
       "explicit           -0.054736    0.044082    -0.065263  1.000000      0.122507   \n",
       "danceability        0.003444    0.035448    -0.073426  0.122507      1.000000   \n",
       "energy             -0.055994    0.001056     0.058523  0.096955      0.134325   \n",
       "key                -0.005520   -0.003853     0.008114  0.004484      0.036469   \n",
       "loudness           -0.027307    0.050423    -0.003470  0.108588      0.259077   \n",
       "mode                0.005107   -0.013931    -0.035556 -0.037212     -0.069219   \n",
       "speechiness        -0.084952   -0.044927    -0.062600  0.307952      0.108626   \n",
       "acousticness        0.076840   -0.025472    -0.103788 -0.094403     -0.171533   \n",
       "instrumentalness   -0.070286   -0.095139     0.124371 -0.103404     -0.185606   \n",
       "liveness            0.033639   -0.005387     0.010321  0.032549     -0.131617   \n",
       "valence             0.053111   -0.040534    -0.154479 -0.003381      0.477341   \n",
       "tempo              -0.025824    0.013205     0.024346 -0.002816     -0.050450   \n",
       "time_signature     -0.021115    0.031073     0.018225  0.038386      0.207218   \n",
       "\n",
       "                    energy       key  loudness      mode  speechiness  \\\n",
       "Unnamed: 0       -0.055994 -0.005520 -0.027307  0.005107    -0.084952   \n",
       "popularity        0.001056 -0.003853  0.050423 -0.013931    -0.044927   \n",
       "duration_ms       0.058523  0.008114 -0.003470 -0.035556    -0.062600   \n",
       "explicit          0.096955  0.004484  0.108588 -0.037212     0.307952   \n",
       "danceability      0.134325  0.036469  0.259077 -0.069219     0.108626   \n",
       "energy            1.000000  0.048006  0.761690 -0.078362     0.142509   \n",
       "key               0.048006  1.000000  0.038590 -0.135916     0.020418   \n",
       "loudness          0.761690  0.038590  1.000000 -0.041764     0.060826   \n",
       "mode             -0.078362 -0.135916 -0.041764  1.000000    -0.046532   \n",
       "speechiness       0.142509  0.020418  0.060826 -0.046532     1.000000   \n",
       "acousticness     -0.733906 -0.040937 -0.589803  0.095553    -0.002186   \n",
       "instrumentalness -0.181879 -0.006823 -0.433477 -0.049955    -0.089616   \n",
       "liveness          0.184796 -0.001600  0.076899  0.014012     0.205219   \n",
       "valence           0.258934  0.034103  0.279848  0.021953     0.036635   \n",
       "tempo             0.247851  0.010917  0.212446  0.000566     0.017273   \n",
       "time_signature    0.187126  0.015065  0.191992 -0.024092    -0.000011   \n",
       "\n",
       "                  acousticness  instrumentalness  liveness   valence  \\\n",
       "Unnamed: 0            0.076840         -0.070286  0.033639  0.053111   \n",
       "popularity           -0.025472         -0.095139 -0.005387 -0.040534   \n",
       "duration_ms          -0.103788          0.124371  0.010321 -0.154479   \n",
       "explicit             -0.094403         -0.103404  0.032549 -0.003381   \n",
       "danceability         -0.171533         -0.185606 -0.131617  0.477341   \n",
       "energy               -0.733906         -0.181879  0.184796  0.258934   \n",
       "key                  -0.040937         -0.006823 -0.001600  0.034103   \n",
       "loudness             -0.589803         -0.433477  0.076899  0.279848   \n",
       "mode                  0.095553         -0.049955  0.014012  0.021953   \n",
       "speechiness          -0.002186         -0.089616  0.205219  0.036635   \n",
       "acousticness          1.000000          0.104027 -0.020700 -0.107070   \n",
       "instrumentalness      0.104027          1.000000 -0.079893 -0.324312   \n",
       "liveness             -0.020700         -0.079893  1.000000  0.019086   \n",
       "valence              -0.107070         -0.324312  0.019086  1.000000   \n",
       "tempo                -0.208224         -0.050330  0.000600  0.078273   \n",
       "time_signature       -0.176138         -0.082580 -0.023651  0.133686   \n",
       "\n",
       "                     tempo  time_signature  \n",
       "Unnamed: 0       -0.025824       -0.021115  \n",
       "popularity        0.013205        0.031073  \n",
       "duration_ms       0.024346        0.018225  \n",
       "explicit         -0.002816        0.038386  \n",
       "danceability     -0.050450        0.207218  \n",
       "energy            0.247851        0.187126  \n",
       "key               0.010917        0.015065  \n",
       "loudness          0.212446        0.191992  \n",
       "mode              0.000566       -0.024092  \n",
       "speechiness       0.017273       -0.000011  \n",
       "acousticness     -0.208224       -0.176138  \n",
       "instrumentalness -0.050330       -0.082580  \n",
       "liveness          0.000600       -0.023651  \n",
       "valence           0.078273        0.133686  \n",
       "tempo             1.000000        0.066641  \n",
       "time_signature    0.066641        1.000000  "
      ]
     },
     "execution_count": 5,
     "metadata": {},
     "output_type": "execute_result"
    }
   ],
   "source": [
    "df = pd.read_csv('dataset.csv')\n",
    "corr=df.corr()\n",
    "corr"
   ]
  },
  {
   "cell_type": "code",
   "execution_count": null,
   "id": "22f1f046",
   "metadata": {
    "execution": {
     "iopub.execute_input": "2022-12-28T21:42:56.576546Z",
     "iopub.status.busy": "2022-12-28T21:42:56.575051Z",
     "iopub.status.idle": "2022-12-28T21:42:57.595513Z",
     "shell.execute_reply": "2022-12-28T21:42:57.593537Z"
    },
    "papermill": {
     "duration": 1.043605,
     "end_time": "2022-12-28T21:42:57.600315",
     "exception": false,
     "start_time": "2022-12-28T21:42:56.556710",
     "status": "completed"
    },
    "tags": []
   },
   "outputs": [
    {
     "data": {
      "text/plain": [
       "Text(0.5, 0.98, '')"
      ]
     },
     "execution_count": 6,
     "metadata": {},
     "output_type": "execute_result"
    },
    {
     "data": {
      "image/png": "[encoded data removed]",
      "text/plain": [
       "<Figure size 432x288 with 1 Axes>"
      ]
     },
     "metadata": {
      "needs_background": "light"
     },
     "output_type": "display_data"
    }
   ],
   "source": [
    "plot_df = pd.read_csv('dataset.csv')\n",
    "plot_df.head()\n",
    "plot_df['explicit'].value_counts(dropna = False)\n",
    "plot_df.boxplot(column='popularity', by ='explicit')\n",
    "plt.title('Spotify tracks dataset ')\n",
    "plt.suptitle('')\n"
   ]
  },
  {
   "cell_type": "code",
   "execution_count": null,
   "id": "5fa19794",
   "metadata": {
    "execution": {
     "iopub.execute_input": "2022-12-28T21:42:57.640319Z",
     "iopub.status.busy": "2022-12-28T21:42:57.639568Z",
     "iopub.status.idle": "2022-12-28T21:42:57.875224Z",
     "shell.execute_reply": "2022-12-28T21:42:57.873821Z"
    },
    "papermill": {
     "duration": 0.256396,
     "end_time": "2022-12-28T21:42:57.877822",
     "exception": false,
     "start_time": "2022-12-28T21:42:57.621426",
     "status": "completed"
    },
    "tags": []
   },
   "outputs": [
    {
     "data": {
      "text/plain": [
       "<AxesSubplot:xlabel='explicit', ylabel='popularity'>"
      ]
     },
     "execution_count": 7,
     "metadata": {},
     "output_type": "execute_result"
    },
    {
     "data": {
      "image/png": "[encoded data removed]",
      "text/plain": [
       "<Figure size 432x288 with 1 Axes>"
      ]
     },
     "metadata": {
      "needs_background": "light"
     },
     "output_type": "display_data"
    }
   ],
   "source": [
    "sns.boxplot(x='explicit', y='popularity', data=plot_df, palette='Blues' )"
   ]
  },
  {
   "cell_type": "markdown",
   "id": "2af40ae2",
   "metadata": {
    "papermill": {
     "duration": 0.015728,
     "end_time": "2022-12-28T21:42:57.909529",
     "exception": false,
     "start_time": "2022-12-28T21:42:57.893801",
     "status": "completed"
    },
    "tags": []
   },
   "source": [
    "Feature Independence Plots"
   ]
  },
  {
   "cell_type": "code",
   "execution_count": null,
   "id": "f34965f2",
   "metadata": {
    "execution": {
     "iopub.execute_input": "2022-12-28T21:42:57.944025Z",
     "iopub.status.busy": "2022-12-28T21:42:57.943307Z",
     "iopub.status.idle": "2022-12-28T21:43:18.835122Z",
     "shell.execute_reply": "2022-12-28T21:43:18.833502Z"
    },
    "papermill": {
     "duration": 20.912207,
     "end_time": "2022-12-28T21:43:18.838011",
     "exception": false,
     "start_time": "2022-12-28T21:42:57.925804",
     "status": "completed"
    },
    "tags": []
   },
   "outputs": [
    {
     "data": {
      "text/plain": [
       "<AxesSubplot:xlabel='duration_ms', ylabel='popularity'>"
      ]
     },
     "execution_count": 8,
     "metadata": {},
     "output_type": "execute_result"
    },
    {
     "data": {
      "image/png": "[encoded data removed]",
      "text/plain": [
       "<Figure size 720x576 with 1 Axes>"
      ]
     },
     "metadata": {
      "needs_background": "light"
     },
     "output_type": "display_data"
    }
   ],
   "source": [
    "data = pd.read_csv('dataset.csv')\n",
    "x = data['duration_ms']\n",
    "y = data['popularity']\n",
    "plt.figure(figsize=(10,8))\n",
    "sns.regplot(x, y,color=\"Skyblue\", truncate=True)"
   ]
  },
  {
   "cell_type": "markdown",
   "id": "cb4f8311",
   "metadata": {
    "papermill": {
     "duration": 0.016757,
     "end_time": "2022-12-28T21:43:18.872280",
     "exception": false,
     "start_time": "2022-12-28T21:43:18.855523",
     "status": "completed"
    },
    "tags": []
   },
   "source": [
    "Outlier Plots:-\n",
    "An outlier is a data point which is significantly far away from other data points. The Inter-quartile Range(IQR) is used to detect and remove outliers."
   ]
  },
  {
   "cell_type": "code",
   "execution_count": null,
   "id": "85439ed5",
   "metadata": {
    "execution": {
     "iopub.execute_input": "2022-12-28T21:43:18.909511Z",
     "iopub.status.busy": "2022-12-28T21:43:18.907913Z",
     "iopub.status.idle": "2022-12-28T21:43:19.183407Z",
     "shell.execute_reply": "2022-12-28T21:43:19.181784Z"
    },
    "papermill": {
     "duration": 0.297299,
     "end_time": "2022-12-28T21:43:19.186443",
     "exception": false,
     "start_time": "2022-12-28T21:43:18.889144",
     "status": "completed"
    },
    "tags": []
   },
   "outputs": [
    {
     "data": {
      "text/plain": [
       "<AxesSubplot:xlabel='explicit', ylabel='popularity'>"
      ]
     },
     "execution_count": 9,
     "metadata": {},
     "output_type": "execute_result"
    },
    {
     "data": {
      "image/png": "[encoded data removed]",
      "text/plain": [
       "<Figure size 432x288 with 1 Axes>"
      ]
     },
     "metadata": {
      "needs_background": "light"
     },
     "output_type": "display_data"
    }
   ],
   "source": [
    "def outliers(df, ft):\n",
    "    Q1 = df[ft].quantile(0.25)\n",
    "    Q3 = df[ft].quantile(0.75)\n",
    "    IQR = Q3 - Q1\n",
    "    lower_bound = Q1 - 1.5 * IQR\n",
    "    upper_bound = Q3 = 1.5 * IQR\n",
    "    ls = df.index[(df[ft] < lower_bound) | (df[ft] > upper_bound)]\n",
    "    return ls\n",
    "index_list = []\n",
    "for feature in ['popularity']:\n",
    "    index_list.extend(outliers(plot_df, feature))\n",
    "def remove(df, ls):\n",
    "    ls = sorted(set(ls))\n",
    "    df = df.drop(ls)\n",
    "    return df\n",
    "cleaned_df = remove(plot_df, index_list)\n",
    "sns.boxplot(x='explicit', y='popularity', data = cleaned_df, palette='Blues')"
   ]
  },
  {
   "cell_type": "markdown",
   "id": "820fbc93",
   "metadata": {
    "papermill": {
     "duration": 0.017474,
     "end_time": "2022-12-28T21:43:19.221808",
     "exception": false,
     "start_time": "2022-12-28T21:43:19.204334",
     "status": "completed"
    },
    "tags": []
   },
   "source": [
    "Pattern Of Interests"
   ]
  },
  {
   "cell_type": "code",
   "execution_count": null,
   "id": "48a79f91",
   "metadata": {
    "execution": {
     "iopub.execute_input": "2022-12-28T21:43:19.259413Z",
     "iopub.status.busy": "2022-12-28T21:43:19.258885Z",
     "iopub.status.idle": "2022-12-28T21:43:20.445556Z",
     "shell.execute_reply": "2022-12-28T21:43:20.444426Z"
    },
    "papermill": {
     "duration": 1.209166,
     "end_time": "2022-12-28T21:43:20.448628",
     "exception": false,
     "start_time": "2022-12-28T21:43:19.239462",
     "status": "completed"
    },
    "tags": []
   },
   "outputs": [
    {
     "data": {
      "image/png": "[encoded data removed]",
      "text/plain": [
       "<Figure size 432x288 with 1 Axes>"
      ]
     },
     "metadata": {
      "needs_background": "light"
     },
     "output_type": "display_data"
    },
    {
     "data": {
      "text/plain": [
       "<Figure size 720x720 with 0 Axes>"
      ]
     },
     "metadata": {},
     "output_type": "display_data"
    }
   ],
   "source": [
    "data = pd.read_csv('dataset.csv')\n",
    "data.head()\n",
    "data.columns\n",
    "data = data[['popularity','duration_ms','danceability', 'energy',\n",
    "       'loudness', 'mode', 'speechiness', 'acousticness',\n",
    "       'instrumentalness', 'liveness', 'valence', 'tempo', 'time_signature']]\n",
    "data.head()\n",
    "mean = np.mean(data)\n",
    "std = np.std(data)\n",
    "plt.plot(data)\n",
    "plt.figure(figsize=(10,10))\n",
    "plt.show()\n"
   ]
  },
  {
   "cell_type": "raw",
   "id": "447d0b61",
   "metadata": {
    "papermill": {
     "duration": 0.01791,
     "end_time": "2022-12-28T21:43:20.484564",
     "exception": false,
     "start_time": "2022-12-28T21:43:20.466654",
     "status": "completed"
    },
    "tags": []
   },
   "source": [
    "Trends Of Time and Space"
   ]
  },
  {
   "cell_type": "code",
   "execution_count": null,
   "id": "dbb44f99",
   "metadata": {
    "execution": {
     "iopub.execute_input": "2022-12-28T21:43:20.523946Z",
     "iopub.status.busy": "2022-12-28T21:43:20.523500Z",
     "iopub.status.idle": "2022-12-28T21:43:21.464038Z",
     "shell.execute_reply": "2022-12-28T21:43:21.463077Z"
    },
    "papermill": {
     "duration": 0.964209,
     "end_time": "2022-12-28T21:43:21.466645",
     "exception": false,
     "start_time": "2022-12-28T21:43:20.502436",
     "status": "completed"
    },
    "tags": []
   },
   "outputs": [
    {
     "data": {
      "image/png": "[encoded data removed]",
      "text/plain": [
       "<Figure size 432x288 with 1 Axes>"
      ]
     },
     "metadata": {
      "needs_background": "light"
     },
     "output_type": "display_data"
    },
    {
     "data": {
      "text/plain": [
       "<Figure size 720x720 with 0 Axes>"
      ]
     },
     "metadata": {},
     "output_type": "display_data"
    }
   ],
   "source": [
    "data = pd.read_csv('dataset.csv')\n",
    "data = data[['time_signature', 'duration_ms']]\n",
    "data = pd.DataFrame(data)\n",
    "\n",
    "plt.scatter(df['time_signature'], df['duration_ms'])\n",
    "plt.xlabel('Time')\n",
    "plt.ylabel('Duration')\n",
    "plt.figure(figsize=(10,10))\n",
    "plt.show()"
   ]
  },
  {
   "cell_type": "markdown",
   "id": "eacafd7b",
   "metadata": {
    "papermill": {
     "duration": 0.017323,
     "end_time": "2022-12-28T21:43:21.501755",
     "exception": false,
     "start_time": "2022-12-28T21:43:21.484432",
     "status": "completed"
    },
    "tags": []
   },
   "source": [
    "Train,Validation And Test"
   ]
  },
  {
   "cell_type": "code",
   "execution_count": null,
   "id": "0f87c350",
   "metadata": {
    "execution": {
     "iopub.execute_input": "2022-12-28T21:43:21.538853Z",
     "iopub.status.busy": "2022-12-28T21:43:21.538054Z",
     "iopub.status.idle": "2022-12-28T21:43:22.081119Z",
     "shell.execute_reply": "2022-12-28T21:43:22.079951Z"
    },
    "papermill": {
     "duration": 0.564429,
     "end_time": "2022-12-28T21:43:22.083655",
     "exception": false,
     "start_time": "2022-12-28T21:43:21.519226",
     "status": "completed"
    },
    "tags": []
   },
   "outputs": [
    {
     "data": {
      "text/html": [
       "<div>\n",
       "<style scoped>\n",
       "    .dataframe tbody tr th:only-of-type {\n",
       "        vertical-align: middle;\n",
       "    }\n",
       "\n",
       "    .dataframe tbody tr th {\n",
       "        vertical-align: top;\n",
       "    }\n",
       "\n",
       "    .dataframe thead th {\n",
       "        text-align: right;\n",
       "    }\n",
       "</style>\n",
       "<table border=\"1\" class=\"dataframe\">\n",
       "  <thead>\n",
       "    <tr style=\"text-align: right;\">\n",
       "      <th></th>\n",
       "      <th>Unnamed: 0</th>\n",
       "      <th>track_id</th>\n",
       "      <th>artists</th>\n",
       "      <th>album_name</th>\n",
       "      <th>track_name</th>\n",
       "      <th>popularity</th>\n",
       "      <th>duration_ms</th>\n",
       "      <th>explicit</th>\n",
       "      <th>danceability</th>\n",
       "      <th>energy</th>\n",
       "      <th>...</th>\n",
       "      <th>loudness</th>\n",
       "      <th>mode</th>\n",
       "      <th>speechiness</th>\n",
       "      <th>acousticness</th>\n",
       "      <th>instrumentalness</th>\n",
       "      <th>liveness</th>\n",
       "      <th>valence</th>\n",
       "      <th>tempo</th>\n",
       "      <th>time_signature</th>\n",
       "      <th>track_genre</th>\n",
       "    </tr>\n",
       "  </thead>\n",
       "  <tbody>\n",
       "    <tr>\n",
       "      <th>0</th>\n",
       "      <td>0</td>\n",
       "      <td>5SuOikwiRyPMVoIQDJUgSV</td>\n",
       "      <td>Gen Hoshino</td>\n",
       "      <td>Comedy</td>\n",
       "      <td>Comedy</td>\n",
       "      <td>73</td>\n",
       "      <td>230666</td>\n",
       "      <td>False</td>\n",
       "      <td>0.676</td>\n",
       "      <td>0.4610</td>\n",
       "      <td>...</td>\n",
       "      <td>-6.746</td>\n",
       "      <td>0</td>\n",
       "      <td>0.1430</td>\n",
       "      <td>0.0322</td>\n",
       "      <td>0.000001</td>\n",
       "      <td>0.3580</td>\n",
       "      <td>0.715</td>\n",
       "      <td>87.917</td>\n",
       "      <td>4</td>\n",
       "      <td>acoustic</td>\n",
       "    </tr>\n",
       "    <tr>\n",
       "      <th>1</th>\n",
       "      <td>1</td>\n",
       "      <td>4qPNDBW1i3p13qLCt0Ki3A</td>\n",
       "      <td>Ben Woodward</td>\n",
       "      <td>Ghost (Acoustic)</td>\n",
       "      <td>Ghost - Acoustic</td>\n",
       "      <td>55</td>\n",
       "      <td>149610</td>\n",
       "      <td>False</td>\n",
       "      <td>0.420</td>\n",
       "      <td>0.1660</td>\n",
       "      <td>...</td>\n",
       "      <td>-17.235</td>\n",
       "      <td>1</td>\n",
       "      <td>0.0763</td>\n",
       "      <td>0.9240</td>\n",
       "      <td>0.000006</td>\n",
       "      <td>0.1010</td>\n",
       "      <td>0.267</td>\n",
       "      <td>77.489</td>\n",
       "      <td>4</td>\n",
       "      <td>acoustic</td>\n",
       "    </tr>\n",
       "    <tr>\n",
       "      <th>2</th>\n",
       "      <td>2</td>\n",
       "      <td>1iJBSr7s7jYXzM8EGcbK5b</td>\n",
       "      <td>Ingrid Michaelson;ZAYN</td>\n",
       "      <td>To Begin Again</td>\n",
       "      <td>To Begin Again</td>\n",
       "      <td>57</td>\n",
       "      <td>210826</td>\n",
       "      <td>False</td>\n",
       "      <td>0.438</td>\n",
       "      <td>0.3590</td>\n",
       "      <td>...</td>\n",
       "      <td>-9.734</td>\n",
       "      <td>1</td>\n",
       "      <td>0.0557</td>\n",
       "      <td>0.2100</td>\n",
       "      <td>0.000000</td>\n",
       "      <td>0.1170</td>\n",
       "      <td>0.120</td>\n",
       "      <td>76.332</td>\n",
       "      <td>4</td>\n",
       "      <td>acoustic</td>\n",
       "    </tr>\n",
       "    <tr>\n",
       "      <th>3</th>\n",
       "      <td>3</td>\n",
       "      <td>6lfxq3CG4xtTiEg7opyCyx</td>\n",
       "      <td>Kina Grannis</td>\n",
       "      <td>Crazy Rich Asians (Original Motion Picture Sou...</td>\n",
       "      <td>Can't Help Falling In Love</td>\n",
       "      <td>71</td>\n",
       "      <td>201933</td>\n",
       "      <td>False</td>\n",
       "      <td>0.266</td>\n",
       "      <td>0.0596</td>\n",
       "      <td>...</td>\n",
       "      <td>-18.515</td>\n",
       "      <td>1</td>\n",
       "      <td>0.0363</td>\n",
       "      <td>0.9050</td>\n",
       "      <td>0.000071</td>\n",
       "      <td>0.1320</td>\n",
       "      <td>0.143</td>\n",
       "      <td>181.740</td>\n",
       "      <td>3</td>\n",
       "      <td>acoustic</td>\n",
       "    </tr>\n",
       "    <tr>\n",
       "      <th>4</th>\n",
       "      <td>4</td>\n",
       "      <td>5vjLSffimiIP26QG5WcN2K</td>\n",
       "      <td>Chord Overstreet</td>\n",
       "      <td>Hold On</td>\n",
       "      <td>Hold On</td>\n",
       "      <td>82</td>\n",
       "      <td>198853</td>\n",
       "      <td>False</td>\n",
       "      <td>0.618</td>\n",
       "      <td>0.4430</td>\n",
       "      <td>...</td>\n",
       "      <td>-9.681</td>\n",
       "      <td>1</td>\n",
       "      <td>0.0526</td>\n",
       "      <td>0.4690</td>\n",
       "      <td>0.000000</td>\n",
       "      <td>0.0829</td>\n",
       "      <td>0.167</td>\n",
       "      <td>119.949</td>\n",
       "      <td>4</td>\n",
       "      <td>acoustic</td>\n",
       "    </tr>\n",
       "  </tbody>\n",
       "</table>\n",
       "<p>5 rows × 21 columns</p>\n",
       "</div>"
      ],
      "text/plain": [
       "   Unnamed: 0                track_id                 artists  \\\n",
       "0           0  5SuOikwiRyPMVoIQDJUgSV             Gen Hoshino   \n",
       "1           1  4qPNDBW1i3p13qLCt0Ki3A            Ben Woodward   \n",
       "2           2  1iJBSr7s7jYXzM8EGcbK5b  Ingrid Michaelson;ZAYN   \n",
       "3           3  6lfxq3CG4xtTiEg7opyCyx            Kina Grannis   \n",
       "4           4  5vjLSffimiIP26QG5WcN2K        Chord Overstreet   \n",
       "\n",
       "                                          album_name  \\\n",
       "0                                             Comedy   \n",
       "1                                   Ghost (Acoustic)   \n",
       "2                                     To Begin Again   \n",
       "3  Crazy Rich Asians (Original Motion Picture Sou...   \n",
       "4                                            Hold On   \n",
       "\n",
       "                   track_name  popularity  duration_ms  explicit  \\\n",
       "0                      Comedy          73       230666     False   \n",
       "1            Ghost - Acoustic          55       149610     False   \n",
       "2              To Begin Again          57       210826     False   \n",
       "3  Can't Help Falling In Love          71       201933     False   \n",
       "4                     Hold On          82       198853     False   \n",
       "\n",
       "   danceability  energy  ...  loudness  mode  speechiness  acousticness  \\\n",
       "0         0.676  0.4610  ...    -6.746     0       0.1430        0.0322   \n",
       "1         0.420  0.1660  ...   -17.235     1       0.0763        0.9240   \n",
       "2         0.438  0.3590  ...    -9.734     1       0.0557        0.2100   \n",
       "3         0.266  0.0596  ...   -18.515     1       0.0363        0.9050   \n",
       "4         0.618  0.4430  ...    -9.681     1       0.0526        0.4690   \n",
       "\n",
       "   instrumentalness  liveness  valence    tempo  time_signature  track_genre  \n",
       "0          0.000001    0.3580    0.715   87.917               4     acoustic  \n",
       "1          0.000006    0.1010    0.267   77.489               4     acoustic  \n",
       "2          0.000000    0.1170    0.120   76.332               4     acoustic  \n",
       "3          0.000071    0.1320    0.143  181.740               3     acoustic  \n",
       "4          0.000000    0.0829    0.167  119.949               4     acoustic  \n",
       "\n",
       "[5 rows x 21 columns]"
      ]
     },
     "execution_count": 12,
     "metadata": {},
     "output_type": "execute_result"
    }
   ],
   "source": [
    "data = pd.read_csv('dataset.csv')\n",
    "data.head()"
   ]
  },
  {
   "cell_type": "code",
   "execution_count": null,
   "id": "a5f570cd",
   "metadata": {
    "execution": {
     "iopub.execute_input": "2022-12-28T21:43:22.123079Z",
     "iopub.status.busy": "2022-12-28T21:43:22.122343Z",
     "iopub.status.idle": "2022-12-28T21:43:22.197727Z",
     "shell.execute_reply": "2022-12-28T21:43:22.196446Z"
    },
    "papermill": {
     "duration": 0.099598,
     "end_time": "2022-12-28T21:43:22.201672",
     "exception": false,
     "start_time": "2022-12-28T21:43:22.102074",
     "status": "completed"
    },
    "tags": []
   },
   "outputs": [
    {
     "name": "stdout",
     "output_type": "stream",
     "text": [
      "(79800, 21)\n",
      "(17100, 21)\n",
      "(17100, 21)\n"
     ]
    }
   ],
   "source": [
    "train_data, val_and_test_data = train_test_split(data, test_size=0.3)\n",
    "val_data, test_data = train_test_split(val_and_test_data, test_size=0.5)\n",
    "print(train_data.shape)  \n",
    "print(val_data.shape)    \n",
    "print(test_data.shape)   "
   ]
  },
  {
   "cell_type": "code",
   "execution_count": null,
   "id": "f7318245",
   "metadata": {
    "execution": {
     "iopub.execute_input": "2022-12-28T21:43:22.243112Z",
     "iopub.status.busy": "2022-12-28T21:43:22.242707Z",
     "iopub.status.idle": "2022-12-28T21:43:22.284109Z",
     "shell.execute_reply": "2022-12-28T21:43:22.281729Z"
    },
    "papermill": {
     "duration": 0.065324,
     "end_time": "2022-12-28T21:43:22.286915",
     "exception": false,
     "start_time": "2022-12-28T21:43:22.221591",
     "status": "completed"
    },
    "tags": []
   },
   "outputs": [
    {
     "name": "stdout",
     "output_type": "stream",
     "text": [
      "        Unnamed: 0                track_id             artists  \\\n",
      "14937        14937  7ImvgDdmUPntMJY9jw9pzg  The Countdown Kids   \n",
      "12310        12310  1eMujWp9h2cSEPIiO6xOhN       Leslie Cheung   \n",
      "107267      107267  0gAe8IIqQN5pCxVb8kK9PW                a-ha   \n",
      "49646        49646  0djKRTTzcqrjnEfBUsL9W3             Crypsis   \n",
      "15950        15950  2JvK5309aRgcdgd4Ed9RJ0           JON VINYL   \n",
      "\n",
      "                                          album_name         track_name  \\\n",
      "14937   Happy Halloween! (Spooky Favorites for Kids)  This Is Halloween   \n",
      "12310                                              紅                有心人   \n",
      "107267                                    True North         Oh My Word   \n",
      "49646                                  In The Jungle      In The Jungle   \n",
      "15950                                       Addicted           Addicted   \n",
      "\n",
      "        popularity  duration_ms  explicit  danceability  energy  ...  \\\n",
      "14937            0       196000     False         0.755   0.692  ...   \n",
      "12310           50       268280     False         0.541   0.380  ...   \n",
      "107267          10       237546     False         0.448   0.345  ...   \n",
      "49646           21       230709      True         0.487   0.926  ...   \n",
      "15950           57       138839     False         0.605   0.386  ...   \n",
      "\n",
      "        loudness  mode  speechiness  acousticness  instrumentalness  liveness  \\\n",
      "14937     -3.495     0       0.0561         0.628          0.000000    0.1230   \n",
      "12310    -12.094     1       0.0270         0.716          0.000010    0.3290   \n",
      "107267    -9.797     1       0.0284         0.648          0.020600    0.0950   \n",
      "49646     -2.670     0       0.0611         0.492          0.000022    0.0362   \n",
      "15950     -7.900     0       0.1340         0.586          0.000007    0.1090   \n",
      "\n",
      "        valence    tempo  time_signature  track_genre  \n",
      "14937     0.454   83.795               4     children  \n",
      "12310     0.192   72.015               4     cantopop  \n",
      "107267    0.192  112.904               3    synth-pop  \n",
      "49646     0.212  154.992               4    hardstyle  \n",
      "15950     0.449  171.052               3        chill  \n",
      "\n",
      "[5 rows x 21 columns]\n",
      "       Unnamed: 0                track_id                           artists  \\\n",
      "61919       61919  1qKnTCLdSXjHxSwfld09yv                      Keyakizaka46   \n",
      "8449         8449  3wkzTnvK7AZX0oEB7LrvUJ                   Celso Blues Boy   \n",
      "57990       57990  5xo8RrjJ9CVNrtRg2S3B1R                   Phoebe Bridgers   \n",
      "28510       28510  65Ue0jbK1lhMuWc9XfVanh  ILLENIUM;Said The Sky;Rock Mafia   \n",
      "62751       62751  1BxBJCHhyGYcPLZBAaC7YE                    THE CHARM PARK   \n",
      "\n",
      "                             album_name               track_name  popularity  \\\n",
      "61919  真っ白なものは汚したくなる (Complete Edition)           W-KEYAKIZAKAの詩          18   \n",
      "8449            Por um Monte de Cerveja  Por um Monte de Cerveja          41   \n",
      "57990              Stranger in the Alps          Motion Sickness          77   \n",
      "28510                     Fallen Embers              Crazy Times          45   \n",
      "62751                             花が咲く道                    花が咲く道          45   \n",
      "\n",
      "       duration_ms  explicit  danceability  energy  ...  loudness  mode  \\\n",
      "61919       308293     False         0.633   0.906  ...    -4.121     1   \n",
      "8449        232698     False         0.613   0.878  ...    -5.731     1   \n",
      "57990       229760     False         0.651   0.546  ...    -9.021     1   \n",
      "28510       230400      True         0.476   0.507  ...    -8.058     1   \n",
      "62751       216860     False         0.403   0.929  ...    -3.526     1   \n",
      "\n",
      "       speechiness  acousticness  instrumentalness  liveness  valence  \\\n",
      "61919       0.0365       0.48900          0.000000    0.3320    0.882   \n",
      "8449        0.0313       0.00777          0.000092    0.1680    0.902   \n",
      "57990       0.0357       0.77400          0.043700    0.0842    0.623   \n",
      "28510       0.0459       0.40500          0.000011    0.1130    0.170   \n",
      "62751       0.0592       0.06440          0.021900    0.2940    0.518   \n",
      "\n",
      "         tempo  time_signature  track_genre  \n",
      "61919  122.987               4       j-idol  \n",
      "8449   129.991               4        blues  \n",
      "57990  107.021               4        indie  \n",
      "28510  150.204               4          dub  \n",
      "62751  100.069               4        j-pop  \n",
      "\n",
      "[5 rows x 21 columns]\n",
      "       Unnamed: 0                track_id               artists  \\\n",
      "70179       70179  2uY8mN0tdlmy9E1zuHmWOh                G.E.M.   \n",
      "54688       54688  6zUN51T8i6ah3eTWFekKcG    Two Lone Swordsmen   \n",
      "52081       52081  4SabpsbPFfwS3jzgq0HaOk        Lefty Frizzell   \n",
      "15594       15594  5kFWqLVb9idG4f52ZVD99r  ZRobb;Shiloh Dynasty   \n",
      "1048         1048  7bLMLwx6gJrCXoppD2YqOu        Criolo;Emicida   \n",
      "\n",
      "                                              album_name  \\\n",
      "70179                                         你不是第一個離開的人   \n",
      "54688                                     Tiny Reminders   \n",
      "52081  The Complete Columbia Recording Sessions, Vol....   \n",
      "15594                                 My Head In The Sky   \n",
      "1048                     Criolo E Emicida Ao Vivo (Live)   \n",
      "\n",
      "                                       track_name  popularity  duration_ms  \\\n",
      "70179                                  你不是第一個離開的人          59       200287   \n",
      "54688                         Tiny Reminder No. 1          10       129226   \n",
      "52081  Make That One for the Road a Cup of Coffee          20       178280   \n",
      "15594    I Don't Trust Nobody - Slowed and Reverb          47        95108   \n",
      "1048                     Subirusdoistiozin - Live          37       211280   \n",
      "\n",
      "       explicit  danceability  energy  ...  loudness  mode  speechiness  \\\n",
      "70179     False         0.327   0.296  ...    -7.761     0       0.0376   \n",
      "54688     False         0.118   0.494  ...   -17.073     1       0.0856   \n",
      "52081     False         0.640   0.383  ...   -13.130     1       0.0360   \n",
      "15594     False         0.483   0.240  ...   -18.583     0       0.0883   \n",
      "1048      False         0.569   0.907  ...    -5.619     0       0.3100   \n",
      "\n",
      "       acousticness  instrumentalness  liveness  valence    tempo  \\\n",
      "70179      0.653000          0.000000     0.110   0.1570   81.312   \n",
      "54688      0.000061          0.938000     0.904   0.0441   59.135   \n",
      "52081      0.661000          0.000307     0.179   0.7260  122.054   \n",
      "15594      0.919000          0.726000     0.155   0.5060   95.164   \n",
      "1048       0.602000          0.000044     0.862   0.5620   94.346   \n",
      "\n",
      "       time_signature  track_genre  \n",
      "70179               5     mandopop  \n",
      "54688               4          idm  \n",
      "52081               4   honky-tonk  \n",
      "15594               3        chill  \n",
      "1048                4     afrobeat  \n",
      "\n",
      "[5 rows x 21 columns]\n"
     ]
    }
   ],
   "source": [
    "print(train_data.head())  \n",
    "print(val_data.head())    \n",
    "print(test_data.head())"
   ]
  },
  {
   "cell_type": "markdown",
   "id": "7f46fa92",
   "metadata": {
    "papermill": {
     "duration": 0.020647,
     "end_time": "2022-12-28T21:43:22.328490",
     "exception": false,
     "start_time": "2022-12-28T21:43:22.307843",
     "status": "completed"
    },
    "tags": []
   },
   "source": []
  }
 ],
 "metadata": {
  "kernelspec": {
   "display_name": "Python 3",
   "language": "python",
   "name": "python3"
  },
  "language_info": {
   "codemirror_mode": {
    "name": "ipython",
    "version": 3
   },
   "file_extension": ".py",
   "mimetype": "text/x-python",
   "name": "python",
   "nbconvert_exporter": "python",
   "pygments_lexer": "ipython3",
   "version": "3.9.7"
  },
  "papermill": {
   "default_parameters": {},
   "duration": 59.372785,
   "end_time": "2022-12-28T21:43:25.030685",
   "environment_variables": {},
   "exception": null,
   "input_path": "__notebook__.ipynb",
   "output_path": "__notebook__.ipynb",
   "parameters": {},
   "start_time": "2022-12-28T21:42:25.657900",
   "version": "2.3.4"
  }
 },
 "nbformat": 4,
 "nbformat_minor": 5
}
